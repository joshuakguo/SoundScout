{
 "cells": [
  {
   "cell_type": "code",
   "execution_count": 1,
   "metadata": {},
   "outputs": [],
   "source": [
    "import pandas as pd\n",
    "import json\n",
    "import os"
   ]
  },
  {
   "cell_type": "code",
   "execution_count": 2,
   "metadata": {},
   "outputs": [],
   "source": [
    "\n",
    "def process_data(folder_path):\n",
    "    result=pd.DataFrame()\n",
    "    for file_name in os.listdir(folder_path):\n",
    "        file_path = os.path.join(folder_path, file_name)\n",
    "        data = json.load(open(file_path))\n",
    "        df = pd.DataFrame(data[\"playlists\"])\n",
    "        popular_df = df.loc[df['num_followers'] > 15]\n",
    "        result = pd.concat([result, popular_df])\n",
    "    # print(result.shape[0])\n",
    "    return result"
   ]
  },
  {
   "cell_type": "code",
   "execution_count": 3,
   "metadata": {},
   "outputs": [],
   "source": [
    "new_csv = process_data(\"../../spotify_million_playlist_dataset/data\").to_csv(\"processed_playlists.csv\")"
   ]
  }
 ],
 "metadata": {
  "kernelspec": {
   "display_name": "soundscout-env",
   "language": "python",
   "name": "python3"
  },
  "language_info": {
   "codemirror_mode": {
    "name": "ipython",
    "version": 3
   },
   "file_extension": ".py",
   "mimetype": "text/x-python",
   "name": "python",
   "nbconvert_exporter": "python",
   "pygments_lexer": "ipython3",
   "version": "3.9.13"
  },
  "orig_nbformat": 4
 },
 "nbformat": 4,
 "nbformat_minor": 2
}
