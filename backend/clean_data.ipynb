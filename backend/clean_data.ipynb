{
 "cells": [
  {
   "cell_type": "code",
   "execution_count": 2,
   "metadata": {},
   "outputs": [],
   "source": [
    "import os\n",
    "import json"
   ]
  },
  {
   "attachments": {},
   "cell_type": "markdown",
   "metadata": {},
   "source": [
    "### Filter data"
   ]
  },
  {
   "cell_type": "code",
   "execution_count": 45,
   "metadata": {},
   "outputs": [],
   "source": [
    "input_dir = \"../data\"\n",
    "output_dir = \"../data2\"\n",
    "\n",
    "# Create the output folder if it doesn't exist\n",
    "output_folder = output_dir\n",
    "if not os.path.exists(output_folder):\n",
    "    os.makedirs(output_folder)\n",
    "    \n",
    "for filename in os.listdir(input_dir):\n",
    "    if filename.endswith(\".json\"):\n",
    "        # Load the JSON file\n",
    "        with open(os.path.join(input_dir, filename)) as f:\n",
    "            data = json.load(f)\n",
    "        # Keep playlists with at least k followers\n",
    "        # k = 9: 9k playlists, ~110 MB\n",
    "        # k = 8: 11k playlists, ~136 MB\n",
    "        k = 9\n",
    "        playlists = data[\"playlists\"]\n",
    "        filtered_playlists = [playlist for playlist in playlists if playlist[\"num_followers\"] >= 9]\n",
    "        data[\"playlists\"] = filtered_playlists\n",
    "        # Save the edited JSON file to the output directory\n",
    "        with open(os.path.join(output_dir, filename), \"w\") as f:\n",
    "            json.dump(data, f)\n",
    "\n",
    "# ~3m runtime"
   ]
  },
  {
   "attachments": {},
   "cell_type": "markdown",
   "metadata": {},
   "source": [
    "### Clean data"
   ]
  },
  {
   "cell_type": "code",
   "execution_count": 8,
   "metadata": {},
   "outputs": [],
   "source": [
    "# Define the directory containing the original JSON files\n",
    "input_dir = \"../data2\"\n",
    "# Define the directory where the edited JSON files will be saved\n",
    "output_dir = \"../data2\"\n",
    "\n",
    "# Create the output folder if it doesn't exist\n",
    "output_folder = output_dir\n",
    "if not os.path.exists(output_folder):\n",
    "    os.makedirs(output_folder)\n",
    "    \n",
    "# Define the list of unnecessary fields\n",
    "playlist_fields_to_remove = [\"num_tracks\", \"collaborative\", \"modified_at\", \"num_albums\", \"num_edits\", \"duration_ms\", \"num_artists\"]\n",
    "track_fields_to_remove = [\"pos\", \"album_name\", \"duration_ms\", \"artist_uri\", \"album_uri\"]\n",
    "\n",
    "for filename in os.listdir(input_dir):\n",
    "    if filename.endswith(\".json\"):\n",
    "        with open(os.path.join(input_dir, filename)) as f:\n",
    "            data = json.load(f)\n",
    "\n",
    "        # Remove unnecessary fields from each playlist\n",
    "        for playlist in data[\"playlists\"]:\n",
    "            for field in playlist_fields_to_remove:\n",
    "                if field in playlist:\n",
    "                    del playlist[field]\n",
    "            # Remove unnecessary fields from each track\n",
    "            for track in playlist[\"tracks\"]:\n",
    "                for field in track_fields_to_remove:\n",
    "                    if field in track:\n",
    "                        del track[field]\n",
    "        # Save the edited JSON file to the output directory\n",
    "        with open(os.path.join(output_dir, filename), \"w\") as f:\n",
    "            json.dump(data, f)"
   ]
  },
  {
   "attachments": {},
   "cell_type": "markdown",
   "metadata": {},
   "source": [
    "### Relabel PID"
   ]
  },
  {
   "cell_type": "code",
   "execution_count": 5,
   "metadata": {},
   "outputs": [],
   "source": [
    "# Define the directory containing the original JSON files\n",
    "input_dir = \"../data2\"\n",
    "# Define the directory where the edited JSON files will be saved\n",
    "output_dir = \"../data2\"\n",
    "\n",
    "# Create the output folder if it doesn't exist\n",
    "output_folder = output_dir\n",
    "if not os.path.exists(output_folder):\n",
    "    os.makedirs(output_folder)\n",
    "    \n",
    "pid = 0\n",
    "# Iterate over each JSON file in the input directory\n",
    "for filename in os.listdir(input_dir):\n",
    "    # Make sure we're only working with JSON files\n",
    "    if filename.endswith(\".json\"):\n",
    "        # Load the JSON file\n",
    "        with open(os.path.join(input_dir, filename)) as f:\n",
    "            data = json.load(f)\n",
    "        # Keep playlists with >10 followers\n",
    "        playlists = data[\"playlists\"]\n",
    "        for playlist in playlists:\n",
    "            playlist[\"pid\"] = pid\n",
    "            pid += 1\n",
    "        # Save the edited JSON file to the output directory\n",
    "        with open(os.path.join(output_dir, filename), \"w\") as f:\n",
    "            json.dump(data, f)"
   ]
  },
  {
   "cell_type": "code",
   "execution_count": 6,
   "metadata": {},
   "outputs": [
    {
     "name": "stdout",
     "output_type": "stream",
     "text": [
      "11173\n"
     ]
    }
   ],
   "source": [
    "print(pid)"
   ]
  },
  {
   "cell_type": "code",
   "execution_count": 3,
   "metadata": {},
   "outputs": [
    {
     "name": "stdout",
     "output_type": "stream",
     "text": [
      "Number of files in folder: 1000\n"
     ]
    }
   ],
   "source": [
    "folder_path = \"../data3/\"\n",
    "file_count = len([f for f in os.listdir(folder_path) if os.path.isfile(os.path.join(folder_path, f))])\n",
    "print(\"Number of files in folder:\", file_count)"
   ]
  },
  {
   "attachments": {},
   "cell_type": "markdown",
   "metadata": {},
   "source": [
    "### Combine files"
   ]
  },
  {
   "cell_type": "code",
   "execution_count": 4,
   "metadata": {},
   "outputs": [],
   "source": [
    "# Path to the input folder with JSON files\n",
    "input_folder = '../data2'\n",
    "\n",
    "# Path to the output folder to save the new combined JSON file\n",
    "output_folder = '../data3'\n",
    "\n",
    "# Create the output folder if it doesn't exist\n",
    "if not os.path.exists(output_folder):\n",
    "    os.makedirs(output_folder)\n",
    "\n",
    "# Initialize an empty dictionary to store all playlists\n",
    "all_playlists = {\"playlists\": []}\n",
    "\n",
    "# Loop through each file in the input folder\n",
    "for filename in os.listdir(input_folder):\n",
    "    if filename.endswith('.json'):\n",
    "        # Load the contents of the file into a dictionary\n",
    "        with open(os.path.join(input_folder, filename), 'r') as f:\n",
    "            data = json.load(f)\n",
    "        # Append all playlists in the file to the dictionary of all playlists\n",
    "        all_playlists[\"playlists\"].extend(data[\"playlists\"])\n",
    "\n",
    "# Save the new combined JSON file to the output folder\n",
    "output_file = os.path.join(output_folder, 'all_playlists.json')\n",
    "with open(output_file, 'w') as f:\n",
    "    json.dump(all_playlists, f)\n"
   ]
  }
 ],
 "metadata": {
  "kernelspec": {
   "display_name": "cs4300-env",
   "language": "python",
   "name": "python3"
  },
  "language_info": {
   "codemirror_mode": {
    "name": "ipython",
    "version": 3
   },
   "file_extension": ".py",
   "mimetype": "text/x-python",
   "name": "python",
   "nbconvert_exporter": "python",
   "pygments_lexer": "ipython3",
   "version": "3.7.6"
  },
  "orig_nbformat": 4,
  "vscode": {
   "interpreter": {
    "hash": "ff687701113360e0a897c32d5c9023fe65f9a3991ffd041c6db89d6d4adb06d1"
   }
  }
 },
 "nbformat": 4,
 "nbformat_minor": 2
}
